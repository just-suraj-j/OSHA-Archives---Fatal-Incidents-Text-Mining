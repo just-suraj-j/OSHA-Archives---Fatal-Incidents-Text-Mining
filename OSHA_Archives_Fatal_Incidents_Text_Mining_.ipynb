{
  "nbformat": 4,
  "nbformat_minor": 0,
  "metadata": {
    "colab": {
      "name": "OSHA Archives - Fatal Incidents Text Mining .ipynb",
      "provenance": [],
      "authorship_tag": "ABX9TyPNXQ7PR56ejz9WVvaSYurx",
      "include_colab_link": true
    },
    "kernelspec": {
      "name": "python3",
      "display_name": "Python 3"
    },
    "language_info": {
      "name": "python"
    }
  },
  "cells": [
    {
      "cell_type": "markdown",
      "metadata": {
        "id": "view-in-github",
        "colab_type": "text"
      },
      "source": [
        "<a href=\"https://colab.research.google.com/github/just-suraj-j/OSHA-Archives---Fatal-Incidents-Text-Mining/blob/main/OSHA_Archives_Fatal_Incidents_Text_Mining_.ipynb\" target=\"_parent\"><img src=\"https://colab.research.google.com/assets/colab-badge.svg\" alt=\"Open In Colab\"/></a>"
      ]
    },
    {
      "cell_type": "code",
      "execution_count": null,
      "metadata": {
        "id": "hmB9H407vngI"
      },
      "outputs": [],
      "source": [
        "import nltk\n",
        "import os\n",
        "import pandas as pd\n",
        "import matplotlib.pyplot as plt\n",
        "import time\n",
        "import numpy as np\n",
        "\n",
        "plt.style.use(style='seaborn')\n",
        "%matplotlib inline"
      ]
    },
    {
      "cell_type": "code",
      "source": [
        "nltk.download()"
      ],
      "metadata": {
        "colab": {
          "base_uri": "https://localhost:8080/"
        },
        "id": "X3r5JDThwH3n",
        "outputId": "820d4462-7b3b-4fa5-80a8-1f1e45c81fe0"
      },
      "execution_count": null,
      "outputs": [
        {
          "name": "stdout",
          "output_type": "stream",
          "text": [
            "NLTK Downloader\n",
            "---------------------------------------------------------------------------\n",
            "    d) Download   l) List    u) Update   c) Config   h) Help   q) Quit\n",
            "---------------------------------------------------------------------------\n",
            "Downloader> d\n",
            "\n",
            "Download which package (l=list; x=cancel)?\n",
            "  Identifier> l\n",
            "Packages:\n",
            "  [ ] abc................. Australian Broadcasting Commission 2006\n",
            "  [ ] alpino.............. Alpino Dutch Treebank\n",
            "  [ ] averaged_perceptron_tagger Averaged Perceptron Tagger\n",
            "  [ ] averaged_perceptron_tagger_ru Averaged Perceptron Tagger (Russian)\n",
            "  [ ] basque_grammars..... Grammars for Basque\n",
            "  [ ] biocreative_ppi..... BioCreAtIvE (Critical Assessment of Information\n",
            "                           Extraction Systems in Biology)\n",
            "  [ ] bllip_wsj_no_aux.... BLLIP Parser: WSJ Model\n",
            "  [ ] book_grammars....... Grammars from NLTK Book\n",
            "  [ ] brown............... Brown Corpus\n",
            "  [ ] brown_tei........... Brown Corpus (TEI XML Version)\n",
            "  [ ] cess_cat............ CESS-CAT Treebank\n",
            "  [ ] cess_esp............ CESS-ESP Treebank\n",
            "  [ ] chat80.............. Chat-80 Data Files\n",
            "  [ ] city_database....... City Database\n",
            "  [ ] cmudict............. The Carnegie Mellon Pronouncing Dictionary (0.6)\n",
            "  [ ] comparative_sentences Comparative Sentence Dataset\n",
            "  [ ] comtrans............ ComTrans Corpus Sample\n",
            "  [ ] conll2000........... CONLL 2000 Chunking Corpus\n",
            "  [ ] conll2002........... CONLL 2002 Named Entity Recognition Corpus\n",
            "Hit Enter to continue: \n",
            "  [ ] conll2007........... Dependency Treebanks from CoNLL 2007 (Catalan\n",
            "                           and Basque Subset)\n",
            "  [ ] crubadan............ Crubadan Corpus\n",
            "  [ ] dependency_treebank. Dependency Parsed Treebank\n",
            "  [ ] dolch............... Dolch Word List\n",
            "  [ ] europarl_raw........ Sample European Parliament Proceedings Parallel\n",
            "                           Corpus\n",
            "  [ ] extended_omw........ Extended Open Multilingual WordNet\n",
            "  [ ] floresta............ Portuguese Treebank\n",
            "  [ ] framenet_v15........ FrameNet 1.5\n",
            "  [ ] framenet_v17........ FrameNet 1.7\n",
            "  [ ] gazetteers.......... Gazeteer Lists\n",
            "  [ ] genesis............. Genesis Corpus\n",
            "  [ ] gutenberg........... Project Gutenberg Selections\n",
            "  [ ] ieer................ NIST IE-ER DATA SAMPLE\n",
            "  [ ] inaugural........... C-Span Inaugural Address Corpus\n",
            "  [ ] indian.............. Indian Language POS-Tagged Corpus\n",
            "  [ ] jeita............... JEITA Public Morphologically Tagged Corpus (in\n",
            "                           ChaSen format)\n",
            "  [ ] kimmo............... PC-KIMMO Data Files\n",
            "  [ ] knbc................ KNB Corpus (Annotated blog corpus)\n",
            "Hit Enter to continue: \n",
            "  [ ] large_grammars...... Large context-free and feature-based grammars\n",
            "                           for parser comparison\n",
            "  [ ] lin_thesaurus....... Lin's Dependency Thesaurus\n",
            "  [ ] mac_morpho.......... MAC-MORPHO: Brazilian Portuguese news text with\n",
            "                           part-of-speech tags\n",
            "  [ ] machado............. Machado de Assis -- Obra Completa\n",
            "  [ ] masc_tagged......... MASC Tagged Corpus\n",
            "  [ ] maxent_ne_chunker... ACE Named Entity Chunker (Maximum entropy)\n",
            "  [ ] maxent_treebank_pos_tagger Treebank Part of Speech Tagger (Maximum entropy)\n",
            "  [ ] moses_sample........ Moses Sample Models\n",
            "  [ ] movie_reviews....... Sentiment Polarity Dataset Version 2.0\n",
            "  [ ] mte_teip5........... MULTEXT-East 1984 annotated corpus 4.0\n",
            "  [ ] mwa_ppdb............ The monolingual word aligner (Sultan et al.\n",
            "                           2015) subset of the Paraphrase Database.\n",
            "  [ ] names............... Names Corpus, Version 1.3 (1994-03-29)\n",
            "  [ ] nombank.1.0......... NomBank Corpus 1.0\n",
            "  [ ] nonbreaking_prefixes Non-Breaking Prefixes (Moses Decoder)\n",
            "  [ ] nps_chat............ NPS Chat\n",
            "  [ ] omw-1.4............. Open Multilingual Wordnet\n",
            "  [ ] omw................. Open Multilingual Wordnet\n",
            "  [ ] opinion_lexicon..... Opinion Lexicon\n",
            "Hit Enter to continue: \n",
            "  [ ] panlex_swadesh...... PanLex Swadesh Corpora\n",
            "  [ ] paradigms........... Paradigm Corpus\n",
            "  [ ] pe08................ Cross-Framework and Cross-Domain Parser\n",
            "                           Evaluation Shared Task\n",
            "  [ ] perluniprops........ perluniprops: Index of Unicode Version 7.0.0\n",
            "                           character properties in Perl\n",
            "  [ ] pil................. The Patient Information Leaflet (PIL) Corpus\n",
            "  [ ] pl196x.............. Polish language of the XX century sixties\n",
            "  [ ] porter_test......... Porter Stemmer Test Files\n",
            "  [ ] ppattach............ Prepositional Phrase Attachment Corpus\n",
            "  [ ] problem_reports..... Problem Report Corpus\n",
            "  [ ] product_reviews_1... Product Reviews (5 Products)\n",
            "  [ ] product_reviews_2... Product Reviews (9 Products)\n",
            "  [ ] propbank............ Proposition Bank Corpus 1.0\n",
            "  [ ] pros_cons........... Pros and Cons\n",
            "  [ ] ptb................. Penn Treebank\n",
            "  [ ] qc.................. Experimental Data for Question Classification\n",
            "  [ ] reuters............. The Reuters-21578 benchmark corpus, ApteMod\n",
            "                           version\n",
            "  [ ] rslp................ RSLP Stemmer (Removedor de Sufixos da Lingua\n",
            "                           Portuguesa)\n",
            "Hit Enter to continue: \n",
            "  [ ] rte................. PASCAL RTE Challenges 1, 2, and 3\n",
            "  [ ] sample_grammars..... Sample Grammars\n",
            "  [ ] semcor.............. SemCor 3.0\n",
            "  [ ] senseval............ SENSEVAL 2 Corpus: Sense Tagged Text\n",
            "  [ ] sentence_polarity... Sentence Polarity Dataset v1.0\n",
            "  [ ] sentiwordnet........ SentiWordNet\n",
            "  [ ] shakespeare......... Shakespeare XML Corpus Sample\n",
            "  [ ] sinica_treebank..... Sinica Treebank Corpus Sample\n",
            "  [ ] smultron............ SMULTRON Corpus Sample\n",
            "  [ ] snowball_data....... Snowball Data\n",
            "  [ ] spanish_grammars.... Grammars for Spanish\n",
            "  [ ] state_union......... C-Span State of the Union Address Corpus\n",
            "  [ ] subjectivity........ Subjectivity Dataset v1.0\n",
            "  [ ] swadesh............. Swadesh Wordlists\n",
            "  [ ] switchboard......... Switchboard Corpus Sample\n",
            "  [ ] tagsets............. Help on Tagsets\n",
            "  [ ] timit............... TIMIT Corpus Sample\n",
            "  [ ] toolbox............. Toolbox Sample Files\n",
            "  [ ] treebank............ Penn Treebank Sample\n",
            "  [ ] twitter_samples..... Twitter Samples\n",
            "  [ ] udhr2............... Universal Declaration of Human Rights Corpus\n",
            "                           (Unicode Version)\n",
            "Hit Enter to continue: \n",
            "  [ ] udhr................ Universal Declaration of Human Rights Corpus\n",
            "  [ ] unicode_samples..... Unicode Samples\n",
            "  [ ] universal_tagset.... Mappings to the Universal Part-of-Speech Tagset\n",
            "  [ ] universal_treebanks_v20 Universal Treebanks Version 2.0\n",
            "  [ ] vader_lexicon....... VADER Sentiment Lexicon\n",
            "  [ ] verbnet3............ VerbNet Lexicon, Version 3.3\n",
            "  [ ] verbnet............. VerbNet Lexicon, Version 2.1\n",
            "  [ ] webtext............. Web Text Corpus\n",
            "  [ ] wmt15_eval.......... Evaluation data from WMT15\n",
            "  [ ] word2vec_sample..... Word2Vec Sample\n",
            "  [ ] wordnet2021......... Open English Wordnet 2021\n",
            "  [ ] wordnet31........... Wordnet 3.1\n",
            "  [ ] wordnet............. WordNet\n",
            "  [ ] wordnet_ic.......... WordNet-InfoContent\n",
            "  [ ] words............... Word Lists\n",
            "  [ ] ycoe................ York-Toronto-Helsinki Parsed Corpus of Old\n",
            "                           English Prose\n",
            "\n",
            "Collections:\n",
            "  [P] all-corpora......... All the corpora\n",
            "  [P] all-nltk............ All packages available on nltk_data gh-pages\n",
            "                           branch\n",
            "Hit Enter to continue: \n",
            "  [P] all................. All packages\n",
            "  [P] book................ Everything used in the NLTK Book\n",
            "  [P] popular............. Popular packages\n",
            "  [ ] tests............... Packages for running tests\n",
            "  [ ] third-party......... Third-party data packages\n",
            "\n",
            "([*] marks installed packages; [P] marks partially installed collections)\n",
            "\n",
            "Download which package (l=list; x=cancel)?\n",
            "  Identifier> \n",
            "\n",
            "---------------------------------------------------------------------------\n",
            "    d) Download   l) List    u) Update   c) Config   h) Help   q) Quit\n",
            "---------------------------------------------------------------------------\n",
            "Downloader> q\n"
          ]
        },
        {
          "output_type": "execute_result",
          "data": {
            "text/plain": [
              "True"
            ]
          },
          "metadata": {},
          "execution_count": 85
        }
      ]
    },
    {
      "cell_type": "code",
      "source": [
        "os.chdir(\"/content/Data\")"
      ],
      "metadata": {
        "id": "mcm_eVkOww4Y"
      },
      "execution_count": null,
      "outputs": []
    },
    {
      "cell_type": "code",
      "source": [
        "df=pd.read_csv(\"FatalData.csv\")"
      ],
      "metadata": {
        "id": "OBy1OjChw5uI"
      },
      "execution_count": null,
      "outputs": []
    },
    {
      "cell_type": "code",
      "source": [
        "df.head()"
      ],
      "metadata": {
        "colab": {
          "base_uri": "https://localhost:8080/",
          "height": 701
        },
        "id": "f_K5YIvFxXxM",
        "outputId": "ea7560b8-8ba4-413a-db39-0e198e564d1f"
      },
      "execution_count": null,
      "outputs": [
        {
          "output_type": "execute_result",
          "data": {
            "text/plain": [
              "                                              Desc09  \\\n",
              "0  Victim was inside a building bundling material...   \n",
              "1  Victim was on a scaffold doing repairs on an a...   \n",
              "2  Victim was conducting roofing work, and fell t...   \n",
              "3  Victim was climbing a ladder while servicing a...   \n",
              "4  Employees were throwing away old files. They h...   \n",
              "\n",
              "                                              Desc10  \\\n",
              "0  Decedent was working inside a mobile home, mix...   \n",
              "1  Decedent was driving a log truck uphill to pic...   \n",
              "2  Employees were installing roof trusses 20 feet...   \n",
              "3  Decedent was observed standing behind the part...   \n",
              "4  Decedent fell 4-ft, 8-inches off a platform, s...   \n",
              "\n",
              "                                              Desc11  \\\n",
              "0  Worker was backing a forklift up an incline.  ...   \n",
              "1  Worker was removing sheet metal air conditioni...   \n",
              "2  Worker was found unresponsive at the base of a...   \n",
              "3  Worker (security guard) was struck by tractor ...   \n",
              "4  Worker was working underneath a house in the p...   \n",
              "\n",
              "                                              Desc12  \\\n",
              "0  Worker at a soda bottling company was found de...   \n",
              "1  Rock climbing instructor died after falling fr...   \n",
              "2                          Worker fell off a ladder.   \n",
              "3  Worker towing an airplane crashed into a build...   \n",
              "4  Worker, attempting to rescue a trapped motoris...   \n",
              "\n",
              "                                              Desc13  \\\n",
              "0  Worker was electrocuted in concrete electrical...   \n",
              "1  Worker performing repairs on bridge killed whe...   \n",
              "2  Worker was struck and killed by a horse being ...   \n",
              "3                 Worker struck and killed by truck.   \n",
              "4     Worker cleaning sump hole fell in and drowned.   \n",
              "\n",
              "                                              Desc14  \\\n",
              "0                Worker killed in vehicle collision.   \n",
              "1  Worker struck and killed by falling load when ...   \n",
              "2           Worker killed when forklift tipped over.   \n",
              "3  Worker fatally crushed between metal sections ...   \n",
              "4          Worker killed in fall from bed of truck.    \n",
              "\n",
              "                                              Desc15  \\\n",
              "0              Worker struck and killed by forklift.   \n",
              "1                   Worker killed in fall from roof.   \n",
              "2                Worker killed in vehicle collision.   \n",
              "3  Worker fatally crushed by machine arm used to ...   \n",
              "4               Worker fatally crushed by machinery.   \n",
              "\n",
              "                                              Desc16  \\\n",
              "0                                                NaN   \n",
              "1  Worker clearing debris died after being stung ...   \n",
              "2  Woker hospitalized after being injured by pay ...   \n",
              "3      Worker fatally crushed by falling crane boom.   \n",
              "4  Worker fatally crushed by equipment that fell ...   \n",
              "\n",
              "                                              Desc17  \n",
              "0                                                NaN  \n",
              "1  A worker died after being caught between two v...  \n",
              "2         Worker fatally injured in fall from roof.   \n",
              "3  A worker died after falling from a 6 foot ladd...  \n",
              "4                  Worker struck and killed by log.   "
            ],
            "text/html": [
              "\n",
              "  <div id=\"df-ba560c65-25e9-4e93-a7fd-b04c3609882d\">\n",
              "    <div class=\"colab-df-container\">\n",
              "      <div>\n",
              "<style scoped>\n",
              "    .dataframe tbody tr th:only-of-type {\n",
              "        vertical-align: middle;\n",
              "    }\n",
              "\n",
              "    .dataframe tbody tr th {\n",
              "        vertical-align: top;\n",
              "    }\n",
              "\n",
              "    .dataframe thead th {\n",
              "        text-align: right;\n",
              "    }\n",
              "</style>\n",
              "<table border=\"1\" class=\"dataframe\">\n",
              "  <thead>\n",
              "    <tr style=\"text-align: right;\">\n",
              "      <th></th>\n",
              "      <th>Desc09</th>\n",
              "      <th>Desc10</th>\n",
              "      <th>Desc11</th>\n",
              "      <th>Desc12</th>\n",
              "      <th>Desc13</th>\n",
              "      <th>Desc14</th>\n",
              "      <th>Desc15</th>\n",
              "      <th>Desc16</th>\n",
              "      <th>Desc17</th>\n",
              "    </tr>\n",
              "  </thead>\n",
              "  <tbody>\n",
              "    <tr>\n",
              "      <th>0</th>\n",
              "      <td>Victim was inside a building bundling material...</td>\n",
              "      <td>Decedent was working inside a mobile home, mix...</td>\n",
              "      <td>Worker was backing a forklift up an incline.  ...</td>\n",
              "      <td>Worker at a soda bottling company was found de...</td>\n",
              "      <td>Worker was electrocuted in concrete electrical...</td>\n",
              "      <td>Worker killed in vehicle collision.</td>\n",
              "      <td>Worker struck and killed by forklift.</td>\n",
              "      <td>NaN</td>\n",
              "      <td>NaN</td>\n",
              "    </tr>\n",
              "    <tr>\n",
              "      <th>1</th>\n",
              "      <td>Victim was on a scaffold doing repairs on an a...</td>\n",
              "      <td>Decedent was driving a log truck uphill to pic...</td>\n",
              "      <td>Worker was removing sheet metal air conditioni...</td>\n",
              "      <td>Rock climbing instructor died after falling fr...</td>\n",
              "      <td>Worker performing repairs on bridge killed whe...</td>\n",
              "      <td>Worker struck and killed by falling load when ...</td>\n",
              "      <td>Worker killed in fall from roof.</td>\n",
              "      <td>Worker clearing debris died after being stung ...</td>\n",
              "      <td>A worker died after being caught between two v...</td>\n",
              "    </tr>\n",
              "    <tr>\n",
              "      <th>2</th>\n",
              "      <td>Victim was conducting roofing work, and fell t...</td>\n",
              "      <td>Employees were installing roof trusses 20 feet...</td>\n",
              "      <td>Worker was found unresponsive at the base of a...</td>\n",
              "      <td>Worker fell off a ladder.</td>\n",
              "      <td>Worker was struck and killed by a horse being ...</td>\n",
              "      <td>Worker killed when forklift tipped over.</td>\n",
              "      <td>Worker killed in vehicle collision.</td>\n",
              "      <td>Woker hospitalized after being injured by pay ...</td>\n",
              "      <td>Worker fatally injured in fall from roof.</td>\n",
              "    </tr>\n",
              "    <tr>\n",
              "      <th>3</th>\n",
              "      <td>Victim was climbing a ladder while servicing a...</td>\n",
              "      <td>Decedent was observed standing behind the part...</td>\n",
              "      <td>Worker (security guard) was struck by tractor ...</td>\n",
              "      <td>Worker towing an airplane crashed into a build...</td>\n",
              "      <td>Worker struck and killed by truck.</td>\n",
              "      <td>Worker fatally crushed between metal sections ...</td>\n",
              "      <td>Worker fatally crushed by machine arm used to ...</td>\n",
              "      <td>Worker fatally crushed by falling crane boom.</td>\n",
              "      <td>A worker died after falling from a 6 foot ladd...</td>\n",
              "    </tr>\n",
              "    <tr>\n",
              "      <th>4</th>\n",
              "      <td>Employees were throwing away old files. They h...</td>\n",
              "      <td>Decedent fell 4-ft, 8-inches off a platform, s...</td>\n",
              "      <td>Worker was working underneath a house in the p...</td>\n",
              "      <td>Worker, attempting to rescue a trapped motoris...</td>\n",
              "      <td>Worker cleaning sump hole fell in and drowned.</td>\n",
              "      <td>Worker killed in fall from bed of truck.</td>\n",
              "      <td>Worker fatally crushed by machinery.</td>\n",
              "      <td>Worker fatally crushed by equipment that fell ...</td>\n",
              "      <td>Worker struck and killed by log.</td>\n",
              "    </tr>\n",
              "  </tbody>\n",
              "</table>\n",
              "</div>\n",
              "      <button class=\"colab-df-convert\" onclick=\"convertToInteractive('df-ba560c65-25e9-4e93-a7fd-b04c3609882d')\"\n",
              "              title=\"Convert this dataframe to an interactive table.\"\n",
              "              style=\"display:none;\">\n",
              "        \n",
              "  <svg xmlns=\"http://www.w3.org/2000/svg\" height=\"24px\"viewBox=\"0 0 24 24\"\n",
              "       width=\"24px\">\n",
              "    <path d=\"M0 0h24v24H0V0z\" fill=\"none\"/>\n",
              "    <path d=\"M18.56 5.44l.94 2.06.94-2.06 2.06-.94-2.06-.94-.94-2.06-.94 2.06-2.06.94zm-11 1L8.5 8.5l.94-2.06 2.06-.94-2.06-.94L8.5 2.5l-.94 2.06-2.06.94zm10 10l.94 2.06.94-2.06 2.06-.94-2.06-.94-.94-2.06-.94 2.06-2.06.94z\"/><path d=\"M17.41 7.96l-1.37-1.37c-.4-.4-.92-.59-1.43-.59-.52 0-1.04.2-1.43.59L10.3 9.45l-7.72 7.72c-.78.78-.78 2.05 0 2.83L4 21.41c.39.39.9.59 1.41.59.51 0 1.02-.2 1.41-.59l7.78-7.78 2.81-2.81c.8-.78.8-2.07 0-2.86zM5.41 20L4 18.59l7.72-7.72 1.47 1.35L5.41 20z\"/>\n",
              "  </svg>\n",
              "      </button>\n",
              "      \n",
              "  <style>\n",
              "    .colab-df-container {\n",
              "      display:flex;\n",
              "      flex-wrap:wrap;\n",
              "      gap: 12px;\n",
              "    }\n",
              "\n",
              "    .colab-df-convert {\n",
              "      background-color: #E8F0FE;\n",
              "      border: none;\n",
              "      border-radius: 50%;\n",
              "      cursor: pointer;\n",
              "      display: none;\n",
              "      fill: #1967D2;\n",
              "      height: 32px;\n",
              "      padding: 0 0 0 0;\n",
              "      width: 32px;\n",
              "    }\n",
              "\n",
              "    .colab-df-convert:hover {\n",
              "      background-color: #E2EBFA;\n",
              "      box-shadow: 0px 1px 2px rgba(60, 64, 67, 0.3), 0px 1px 3px 1px rgba(60, 64, 67, 0.15);\n",
              "      fill: #174EA6;\n",
              "    }\n",
              "\n",
              "    [theme=dark] .colab-df-convert {\n",
              "      background-color: #3B4455;\n",
              "      fill: #D2E3FC;\n",
              "    }\n",
              "\n",
              "    [theme=dark] .colab-df-convert:hover {\n",
              "      background-color: #434B5C;\n",
              "      box-shadow: 0px 1px 3px 1px rgba(0, 0, 0, 0.15);\n",
              "      filter: drop-shadow(0px 1px 2px rgba(0, 0, 0, 0.3));\n",
              "      fill: #FFFFFF;\n",
              "    }\n",
              "  </style>\n",
              "\n",
              "      <script>\n",
              "        const buttonEl =\n",
              "          document.querySelector('#df-ba560c65-25e9-4e93-a7fd-b04c3609882d button.colab-df-convert');\n",
              "        buttonEl.style.display =\n",
              "          google.colab.kernel.accessAllowed ? 'block' : 'none';\n",
              "\n",
              "        async function convertToInteractive(key) {\n",
              "          const element = document.querySelector('#df-ba560c65-25e9-4e93-a7fd-b04c3609882d');\n",
              "          const dataTable =\n",
              "            await google.colab.kernel.invokeFunction('convertToInteractive',\n",
              "                                                     [key], {});\n",
              "          if (!dataTable) return;\n",
              "\n",
              "          const docLinkHtml = 'Like what you see? Visit the ' +\n",
              "            '<a target=\"_blank\" href=https://colab.research.google.com/notebooks/data_table.ipynb>data table notebook</a>'\n",
              "            + ' to learn more about interactive tables.';\n",
              "          element.innerHTML = '';\n",
              "          dataTable['output_type'] = 'display_data';\n",
              "          await google.colab.output.renderOutput(dataTable, element);\n",
              "          const docLink = document.createElement('div');\n",
              "          docLink.innerHTML = docLinkHtml;\n",
              "          element.appendChild(docLink);\n",
              "        }\n",
              "      </script>\n",
              "    </div>\n",
              "  </div>\n",
              "  "
            ]
          },
          "metadata": {},
          "execution_count": 163
        }
      ]
    },
    {
      "cell_type": "code",
      "source": [
        "nltk.download('punkt')"
      ],
      "metadata": {
        "colab": {
          "base_uri": "https://localhost:8080/"
        },
        "id": "rOcWitm40OsX",
        "outputId": "882389a5-d033-459f-9043-ac9558337aab"
      },
      "execution_count": null,
      "outputs": [
        {
          "output_type": "stream",
          "name": "stdout",
          "text": [
            "[nltk_data] Downloading package punkt to /root/nltk_data...\n",
            "[nltk_data]   Package punkt is already up-to-date!\n"
          ]
        },
        {
          "output_type": "execute_result",
          "data": {
            "text/plain": [
              "True"
            ]
          },
          "metadata": {},
          "execution_count": 91
        }
      ]
    },
    {
      "cell_type": "code",
      "source": [
        "df.fillna(\"0\",inplace=True)"
      ],
      "metadata": {
        "id": "Y1ewbCFM31zz"
      },
      "execution_count": null,
      "outputs": []
    },
    {
      "cell_type": "code",
      "source": [
        "df[\"text_len\"]=df.Desc09.map(lambda x: len(x))"
      ],
      "metadata": {
        "id": "55QJk6yrvdn0"
      },
      "execution_count": null,
      "outputs": []
    },
    {
      "cell_type": "code",
      "source": [
        "def plot_features(feature):\n",
        "  x=df[feature]\n",
        "  plt.figure(1, figsize=(16,8))\n",
        "  plt.subplot(1,1,1)\n",
        "  _=plt.hist(x, alpha=.7,color='red',bins=10)\n",
        "  _=plt.hist(x, alpha=.5,color='grey',bins=10)\n",
        "  return _"
      ],
      "metadata": {
        "id": "gCy180RbwUgh"
      },
      "execution_count": null,
      "outputs": []
    },
    {
      "cell_type": "code",
      "source": [
        "_=plot_features(\"text_len\")"
      ],
      "metadata": {
        "colab": {
          "base_uri": "https://localhost:8080/",
          "height": 446
        },
        "id": "70pkSRJHxT9K",
        "outputId": "9f6a3331-e326-4c0c-dc83-35b04272a697"
      },
      "execution_count": null,
      "outputs": [
        {
          "output_type": "display_data",
          "data": {
            "text/plain": [
              "<Figure size 1152x576 with 1 Axes>"
            ],
            "image/png": "[encoded data removed]"
          },
          "metadata": {
            "needs_background": "light"
          }
        }
      ]
    },
    {
      "cell_type": "code",
      "source": [
        "df[\"word_count\"]=df.Desc12.str.split().map(lambda x: len(x))"
      ],
      "metadata": {
        "id": "FSyfiRGzyTF4"
      },
      "execution_count": null,
      "outputs": []
    },
    {
      "cell_type": "code",
      "source": [
        "_=plot_features(\"word_count\")"
      ],
      "metadata": {
        "colab": {
          "base_uri": "https://localhost:8080/",
          "height": 446
        },
        "id": "5wdK-ZQjzW0U",
        "outputId": "71a7ad2e-bb3d-489d-9810-74841fa1b239"
      },
      "execution_count": null,
      "outputs": [
        {
          "output_type": "display_data",
          "data": {
            "text/plain": [
              "<Figure size 1152x576 with 1 Axes>"
            ],
            "image/png": "[encoded data removed]"
          },
          "metadata": {
            "needs_background": "light"
          }
        }
      ]
    },
    {
      "cell_type": "code",
      "source": [
        "df[\"unique_word_count\"]=df.Desc12.map(lambda x: len(set(str(x).split())))"
      ],
      "metadata": {
        "id": "p3XTPgamzq-y"
      },
      "execution_count": null,
      "outputs": []
    },
    {
      "cell_type": "code",
      "source": [
        "_=plot_features(\"unique_word_count\")"
      ],
      "metadata": {
        "colab": {
          "base_uri": "https://localhost:8080/",
          "height": 446
        },
        "id": "GQ5qoupp0EOX",
        "outputId": "843c95b9-65fc-4020-8e84-90075d3b30b6"
      },
      "execution_count": null,
      "outputs": [
        {
          "output_type": "display_data",
          "data": {
            "text/plain": [
              "<Figure size 1152x576 with 1 Axes>"
            ],
            "image/png": "[encoded data removed]"
          },
          "metadata": {
            "needs_background": "light"
          }
        }
      ]
    },
    {
      "cell_type": "code",
      "source": [
        "df[\"mean_word_length\"]=df.Desc12.map(lambda x: np.mean([len(w) for w in str(x).split()]) )"
      ],
      "metadata": {
        "id": "7Ey0kD-m033h"
      },
      "execution_count": null,
      "outputs": []
    },
    {
      "cell_type": "code",
      "source": [
        "_=plot_features(\"mean_word_length\")"
      ],
      "metadata": {
        "colab": {
          "base_uri": "https://localhost:8080/",
          "height": 446
        },
        "id": "bSz8qUQS1h6E",
        "outputId": "16fe2306-be1a-47f8-8fbb-2c8bcbd39821"
      },
      "execution_count": null,
      "outputs": [
        {
          "output_type": "display_data",
          "data": {
            "text/plain": [
              "<Figure size 1152x576 with 1 Axes>"
            ],
            "image/png": "[encoded data removed]"
          },
          "metadata": {
            "needs_background": "light"
          }
        }
      ]
    },
    {
      "cell_type": "code",
      "source": [
        "import string\n",
        "\n",
        "df[\"punctuation_count\"]=df[\"Desc12\"].map(\n",
        "    lambda x: len([c for c in str(x) if c in string.punctuation])\n",
        ")"
      ],
      "metadata": {
        "id": "WqOrXqb21vUH"
      },
      "execution_count": null,
      "outputs": []
    },
    {
      "cell_type": "code",
      "source": [
        "_=plot_features(\"punctuation_count\")"
      ],
      "metadata": {
        "colab": {
          "base_uri": "https://localhost:8080/",
          "height": 446
        },
        "id": "x3cWpOgp2TZA",
        "outputId": "e23ff16f-c706-4f2d-ada7-aaf505a2747e"
      },
      "execution_count": null,
      "outputs": [
        {
          "output_type": "display_data",
          "data": {
            "text/plain": [
              "<Figure size 1152x576 with 1 Axes>"
            ],
            "image/png": "[encoded data removed]"
          },
          "metadata": {
            "needs_background": "light"
          }
        }
      ]
    },
    {
      "cell_type": "code",
      "source": [
        "from nltk.corpus import stopwords"
      ],
      "metadata": {
        "id": "e01duQRy2dw4"
      },
      "execution_count": null,
      "outputs": []
    },
    {
      "cell_type": "code",
      "source": [
        "def generate_ngrams(text, n_gram=1, stop=True):\n",
        "  stop=set(stopwords.words(\"english\")) if stop else {}\n",
        "  stop.add('0')\n",
        "  stop.add('victim')\n",
        "  stop.add('worker')\n",
        "  stop.add('employee')\n",
        "  stop.add('working')\n",
        "  stop.add('0')\n",
        "  stop.add('found')\n",
        "  stop.add('work')\n",
        "  stop.add('employees')\n",
        "  stop.add('worker.')\n",
        "  stop.add('fatal')\n",
        "  stop.add('causing')\n",
        "  stop.add('him.')\n",
        "  stop.add('fatality')\n",
        "  stop.add('one')\n",
        "  stop.add('hospitalized.')\n",
        "  stop.add('hospitalized')\n",
        "  stop.add('hospital')\n",
        "  stop.add('pronounced')\n",
        "  stop.add('death.')\n",
        "  stop.add('cause')\n",
        "  stop.add('transported')\n",
        "  stop.add('dead')\n",
        "  stop.add('worker')\n",
        "  stop.add('worker,')\n",
        "  stop.add('injuries')\n",
        "  stop.add('process')\n",
        "  stop.add('using')\n",
        "  stop.add('died')\n",
        "  stop.add('two')\n",
        "  stop.add('later')\n",
        "  stop.add('.')\n",
        "  stop.add(',')\n",
        "  stop.add('\\'')\n",
        "  stop.add(';')\n",
        "  stop.add(':')\n",
        "  stop.add('\\(')\n",
        "  stop.add('\\)')\n",
        "  stop.add('kill')\n",
        "  stop.add('killed')\n",
        "\n",
        "\n",
        "  token = [\n",
        "       token for token in text.lower().split(\" \") if token != \"\" if token not in stop    \n",
        "  ]\n",
        "  z=zip(*[token[i:] for i in range(n_gram)])\n",
        "  ngrams= [\" \".join(ngram) for ngram in z]\n",
        "\n",
        "  return ngrams"
      ],
      "metadata": {
        "id": "seXPeIzB3Udn"
      },
      "execution_count": null,
      "outputs": []
    },
    {
      "cell_type": "code",
      "source": [
        "from collections import defaultdict"
      ],
      "metadata": {
        "id": "_wIKetNM4gZV"
      },
      "execution_count": null,
      "outputs": []
    },
    {
      "cell_type": "code",
      "source": [
        "from nltk.corpus import stopwords"
      ],
      "metadata": {
        "id": "F1xgqn1u4trH"
      },
      "execution_count": null,
      "outputs": []
    },
    {
      "cell_type": "code",
      "source": [
        "nltk.download('stopwords')\n",
        "stopwords.words(\"english\")"
      ],
      "metadata": {
        "colab": {
          "base_uri": "https://localhost:8080/"
        },
        "id": "Im_sqOpA48_i",
        "outputId": "1c563df6-cb5b-46b5-caeb-e6fbf718d58b"
      },
      "execution_count": null,
      "outputs": [
        {
          "output_type": "stream",
          "name": "stdout",
          "text": [
            "[nltk_data] Downloading package stopwords to /root/nltk_data...\n",
            "[nltk_data]   Package stopwords is already up-to-date!\n"
          ]
        },
        {
          "output_type": "execute_result",
          "data": {
            "text/plain": [
              "['i',\n",
              " 'me',\n",
              " 'my',\n",
              " 'myself',\n",
              " 'we',\n",
              " 'our',\n",
              " 'ours',\n",
              " 'ourselves',\n",
              " 'you',\n",
              " \"you're\",\n",
              " \"you've\",\n",
              " \"you'll\",\n",
              " \"you'd\",\n",
              " 'your',\n",
              " 'yours',\n",
              " 'yourself',\n",
              " 'yourselves',\n",
              " 'he',\n",
              " 'him',\n",
              " 'his',\n",
              " 'himself',\n",
              " 'she',\n",
              " \"she's\",\n",
              " 'her',\n",
              " 'hers',\n",
              " 'herself',\n",
              " 'it',\n",
              " \"it's\",\n",
              " 'its',\n",
              " 'itself',\n",
              " 'they',\n",
              " 'them',\n",
              " 'their',\n",
              " 'theirs',\n",
              " 'themselves',\n",
              " 'what',\n",
              " 'which',\n",
              " 'who',\n",
              " 'whom',\n",
              " 'this',\n",
              " 'that',\n",
              " \"that'll\",\n",
              " 'these',\n",
              " 'those',\n",
              " 'am',\n",
              " 'is',\n",
              " 'are',\n",
              " 'was',\n",
              " 'were',\n",
              " 'be',\n",
              " 'been',\n",
              " 'being',\n",
              " 'have',\n",
              " 'has',\n",
              " 'had',\n",
              " 'having',\n",
              " 'do',\n",
              " 'does',\n",
              " 'did',\n",
              " 'doing',\n",
              " 'a',\n",
              " 'an',\n",
              " 'the',\n",
              " 'and',\n",
              " 'but',\n",
              " 'if',\n",
              " 'or',\n",
              " 'because',\n",
              " 'as',\n",
              " 'until',\n",
              " 'while',\n",
              " 'of',\n",
              " 'at',\n",
              " 'by',\n",
              " 'for',\n",
              " 'with',\n",
              " 'about',\n",
              " 'against',\n",
              " 'between',\n",
              " 'into',\n",
              " 'through',\n",
              " 'during',\n",
              " 'before',\n",
              " 'after',\n",
              " 'above',\n",
              " 'below',\n",
              " 'to',\n",
              " 'from',\n",
              " 'up',\n",
              " 'down',\n",
              " 'in',\n",
              " 'out',\n",
              " 'on',\n",
              " 'off',\n",
              " 'over',\n",
              " 'under',\n",
              " 'again',\n",
              " 'further',\n",
              " 'then',\n",
              " 'once',\n",
              " 'here',\n",
              " 'there',\n",
              " 'when',\n",
              " 'where',\n",
              " 'why',\n",
              " 'how',\n",
              " 'all',\n",
              " 'any',\n",
              " 'both',\n",
              " 'each',\n",
              " 'few',\n",
              " 'more',\n",
              " 'most',\n",
              " 'other',\n",
              " 'some',\n",
              " 'such',\n",
              " 'no',\n",
              " 'nor',\n",
              " 'not',\n",
              " 'only',\n",
              " 'own',\n",
              " 'same',\n",
              " 'so',\n",
              " 'than',\n",
              " 'too',\n",
              " 'very',\n",
              " 's',\n",
              " 't',\n",
              " 'can',\n",
              " 'will',\n",
              " 'just',\n",
              " 'don',\n",
              " \"don't\",\n",
              " 'should',\n",
              " \"should've\",\n",
              " 'now',\n",
              " 'd',\n",
              " 'll',\n",
              " 'm',\n",
              " 'o',\n",
              " 're',\n",
              " 've',\n",
              " 'y',\n",
              " 'ain',\n",
              " 'aren',\n",
              " \"aren't\",\n",
              " 'couldn',\n",
              " \"couldn't\",\n",
              " 'didn',\n",
              " \"didn't\",\n",
              " 'doesn',\n",
              " \"doesn't\",\n",
              " 'hadn',\n",
              " \"hadn't\",\n",
              " 'hasn',\n",
              " \"hasn't\",\n",
              " 'haven',\n",
              " \"haven't\",\n",
              " 'isn',\n",
              " \"isn't\",\n",
              " 'ma',\n",
              " 'mightn',\n",
              " \"mightn't\",\n",
              " 'mustn',\n",
              " \"mustn't\",\n",
              " 'needn',\n",
              " \"needn't\",\n",
              " 'shan',\n",
              " \"shan't\",\n",
              " 'shouldn',\n",
              " \"shouldn't\",\n",
              " 'wasn',\n",
              " \"wasn't\",\n",
              " 'weren',\n",
              " \"weren't\",\n",
              " 'won',\n",
              " \"won't\",\n",
              " 'wouldn',\n",
              " \"wouldn't\"]"
            ]
          },
          "metadata": {},
          "execution_count": 178
        }
      ]
    },
    {
      "cell_type": "code",
      "source": [
        ""
      ],
      "metadata": {
        "id": "zj-iJqOzLgBe"
      },
      "execution_count": null,
      "outputs": []
    },
    {
      "cell_type": "code",
      "source": [
        "df_unigrams =defaultdict(int)"
      ],
      "metadata": {
        "id": "xzRfG6305LNs"
      },
      "execution_count": null,
      "outputs": []
    },
    {
      "cell_type": "code",
      "source": [
        "for text in df.Desc12:\n",
        "  for word in generate_ngrams(text):\n",
        "    df_unigrams[word]+=1"
      ],
      "metadata": {
        "id": "OiqbFm8A5j5Q"
      },
      "execution_count": null,
      "outputs": []
    },
    {
      "cell_type": "code",
      "source": [
        "df_desc_unigrams= pd.DataFrame(\n",
        "    sorted(df_unigrams.items(), key= lambda x:x[1], reverse=True)\n",
        ")"
      ],
      "metadata": {
        "id": "fIvQxYFW6EOA"
      },
      "execution_count": null,
      "outputs": []
    },
    {
      "cell_type": "code",
      "source": [
        "sorted(df_unigrams.items(),key=lambda x:x[1],reverse=True)[:35]"
      ],
      "metadata": {
        "colab": {
          "base_uri": "https://localhost:8080/"
        },
        "id": "yqqBl72v6g6c",
        "outputId": "34f3b76a-6742-4977-ff0b-ab1c64fb6b8a"
      },
      "execution_count": null,
      "outputs": [
        {
          "output_type": "execute_result",
          "data": {
            "text/plain": [
              "[('struck', 194),\n",
              " ('falling', 186),\n",
              " ('fell', 141),\n",
              " ('truck', 119),\n",
              " ('crushed', 107),\n",
              " ('feet', 106),\n",
              " ('performing', 90),\n",
              " ('head', 82),\n",
              " ('electrocuted', 61),\n",
              " ('operating', 57),\n",
              " ('inside', 55),\n",
              " ('machine', 52),\n",
              " ('roof', 51),\n",
              " ('tree', 46),\n",
              " ('construction', 43),\n",
              " ('installing', 42),\n",
              " ('caught', 41),\n",
              " ('forklift', 40),\n",
              " ('lift', 39),\n",
              " ('vehicle', 37),\n",
              " ('concrete', 34),\n",
              " ('metal', 33),\n",
              " ('line.', 33),\n",
              " ('power', 33),\n",
              " ('truck.', 31),\n",
              " ('maintenance', 30),\n",
              " ('ladder', 30),\n",
              " ('trailer', 30),\n",
              " ('head.', 29),\n",
              " ('hit', 28),\n",
              " ('cutting', 28),\n",
              " ('repairing', 28),\n",
              " ('building', 27),\n",
              " ('pipe', 27),\n",
              " ('collapsed', 27)]"
            ]
          },
          "metadata": {},
          "execution_count": 250
        }
      ]
    },
    {
      "cell_type": "code",
      "source": [
        "df_desc_unigrams.head()"
      ],
      "metadata": {
        "colab": {
          "base_uri": "https://localhost:8080/",
          "height": 206
        },
        "id": "ywk4aLv67WTn",
        "outputId": "5cab7c15-98e8-483c-db40-03de2eb0ed3d"
      },
      "execution_count": null,
      "outputs": [
        {
          "output_type": "execute_result",
          "data": {
            "text/plain": [
              "         0    1\n",
              "0   struck  194\n",
              "1  falling  186\n",
              "2     fell  141\n",
              "3    truck  119\n",
              "4  crushed  107"
            ],
            "text/html": [
              "\n",
              "  <div id=\"df-0e59951c-549e-420a-b601-5eb50fb914b9\">\n",
              "    <div class=\"colab-df-container\">\n",
              "      <div>\n",
              "<style scoped>\n",
              "    .dataframe tbody tr th:only-of-type {\n",
              "        vertical-align: middle;\n",
              "    }\n",
              "\n",
              "    .dataframe tbody tr th {\n",
              "        vertical-align: top;\n",
              "    }\n",
              "\n",
              "    .dataframe thead th {\n",
              "        text-align: right;\n",
              "    }\n",
              "</style>\n",
              "<table border=\"1\" class=\"dataframe\">\n",
              "  <thead>\n",
              "    <tr style=\"text-align: right;\">\n",
              "      <th></th>\n",
              "      <th>0</th>\n",
              "      <th>1</th>\n",
              "    </tr>\n",
              "  </thead>\n",
              "  <tbody>\n",
              "    <tr>\n",
              "      <th>0</th>\n",
              "      <td>struck</td>\n",
              "      <td>194</td>\n",
              "    </tr>\n",
              "    <tr>\n",
              "      <th>1</th>\n",
              "      <td>falling</td>\n",
              "      <td>186</td>\n",
              "    </tr>\n",
              "    <tr>\n",
              "      <th>2</th>\n",
              "      <td>fell</td>\n",
              "      <td>141</td>\n",
              "    </tr>\n",
              "    <tr>\n",
              "      <th>3</th>\n",
              "      <td>truck</td>\n",
              "      <td>119</td>\n",
              "    </tr>\n",
              "    <tr>\n",
              "      <th>4</th>\n",
              "      <td>crushed</td>\n",
              "      <td>107</td>\n",
              "    </tr>\n",
              "  </tbody>\n",
              "</table>\n",
              "</div>\n",
              "      <button class=\"colab-df-convert\" onclick=\"convertToInteractive('df-0e59951c-549e-420a-b601-5eb50fb914b9')\"\n",
              "              title=\"Convert this dataframe to an interactive table.\"\n",
              "              style=\"display:none;\">\n",
              "        \n",
              "  <svg xmlns=\"http://www.w3.org/2000/svg\" height=\"24px\"viewBox=\"0 0 24 24\"\n",
              "       width=\"24px\">\n",
              "    <path d=\"M0 0h24v24H0V0z\" fill=\"none\"/>\n",
              "    <path d=\"M18.56 5.44l.94 2.06.94-2.06 2.06-.94-2.06-.94-.94-2.06-.94 2.06-2.06.94zm-11 1L8.5 8.5l.94-2.06 2.06-.94-2.06-.94L8.5 2.5l-.94 2.06-2.06.94zm10 10l.94 2.06.94-2.06 2.06-.94-2.06-.94-.94-2.06-.94 2.06-2.06.94z\"/><path d=\"M17.41 7.96l-1.37-1.37c-.4-.4-.92-.59-1.43-.59-.52 0-1.04.2-1.43.59L10.3 9.45l-7.72 7.72c-.78.78-.78 2.05 0 2.83L4 21.41c.39.39.9.59 1.41.59.51 0 1.02-.2 1.41-.59l7.78-7.78 2.81-2.81c.8-.78.8-2.07 0-2.86zM5.41 20L4 18.59l7.72-7.72 1.47 1.35L5.41 20z\"/>\n",
              "  </svg>\n",
              "      </button>\n",
              "      \n",
              "  <style>\n",
              "    .colab-df-container {\n",
              "      display:flex;\n",
              "      flex-wrap:wrap;\n",
              "      gap: 12px;\n",
              "    }\n",
              "\n",
              "    .colab-df-convert {\n",
              "      background-color: #E8F0FE;\n",
              "      border: none;\n",
              "      border-radius: 50%;\n",
              "      cursor: pointer;\n",
              "      display: none;\n",
              "      fill: #1967D2;\n",
              "      height: 32px;\n",
              "      padding: 0 0 0 0;\n",
              "      width: 32px;\n",
              "    }\n",
              "\n",
              "    .colab-df-convert:hover {\n",
              "      background-color: #E2EBFA;\n",
              "      box-shadow: 0px 1px 2px rgba(60, 64, 67, 0.3), 0px 1px 3px 1px rgba(60, 64, 67, 0.15);\n",
              "      fill: #174EA6;\n",
              "    }\n",
              "\n",
              "    [theme=dark] .colab-df-convert {\n",
              "      background-color: #3B4455;\n",
              "      fill: #D2E3FC;\n",
              "    }\n",
              "\n",
              "    [theme=dark] .colab-df-convert:hover {\n",
              "      background-color: #434B5C;\n",
              "      box-shadow: 0px 1px 3px 1px rgba(0, 0, 0, 0.15);\n",
              "      filter: drop-shadow(0px 1px 2px rgba(0, 0, 0, 0.3));\n",
              "      fill: #FFFFFF;\n",
              "    }\n",
              "  </style>\n",
              "\n",
              "      <script>\n",
              "        const buttonEl =\n",
              "          document.querySelector('#df-0e59951c-549e-420a-b601-5eb50fb914b9 button.colab-df-convert');\n",
              "        buttonEl.style.display =\n",
              "          google.colab.kernel.accessAllowed ? 'block' : 'none';\n",
              "\n",
              "        async function convertToInteractive(key) {\n",
              "          const element = document.querySelector('#df-0e59951c-549e-420a-b601-5eb50fb914b9');\n",
              "          const dataTable =\n",
              "            await google.colab.kernel.invokeFunction('convertToInteractive',\n",
              "                                                     [key], {});\n",
              "          if (!dataTable) return;\n",
              "\n",
              "          const docLinkHtml = 'Like what you see? Visit the ' +\n",
              "            '<a target=\"_blank\" href=https://colab.research.google.com/notebooks/data_table.ipynb>data table notebook</a>'\n",
              "            + ' to learn more about interactive tables.';\n",
              "          element.innerHTML = '';\n",
              "          dataTable['output_type'] = 'display_data';\n",
              "          await google.colab.output.renderOutput(dataTable, element);\n",
              "          const docLink = document.createElement('div');\n",
              "          docLink.innerHTML = docLinkHtml;\n",
              "          element.appendChild(docLink);\n",
              "        }\n",
              "      </script>\n",
              "    </div>\n",
              "  </div>\n",
              "  "
            ]
          },
          "metadata": {},
          "execution_count": 251
        }
      ]
    },
    {
      "cell_type": "code",
      "source": [
        "d1=df_desc_unigrams[0][0:35]\n",
        "d2=df_desc_unigrams[1][0:35]\n",
        "\n",
        "plt.figure(1,figsize=(10,30))\n",
        "plt.subplot(2,1,1)\n",
        "_=plt.barh(d1,d2)\n",
        "\n"
      ],
      "metadata": {
        "colab": {
          "base_uri": "https://localhost:8080/",
          "height": 789
        },
        "id": "nzKTFBED7nK4",
        "outputId": "988e927a-6b00-4d3c-e3e8-4c5a97622dcf"
      },
      "execution_count": null,
      "outputs": [
        {
          "output_type": "display_data",
          "data": {
            "text/plain": [
              "<Figure size 720x2160 with 1 Axes>"
            ],
            "image/png": "[encoded data removed]"
          },
          "metadata": {
            "needs_background": "light"
          }
        }
      ]
    },
    {
      "cell_type": "code",
      "source": [
        "df_bigrams =defaultdict(int)\n",
        "\n",
        "for text in df.Desc12:\n",
        "  for word in generate_ngrams(text,n_gram=2):\n",
        "    df_bigrams[word]+=1\n",
        "\n",
        "df_desc_bigrams= pd.DataFrame(\n",
        "    sorted(df_bigrams.items(), key= lambda x:x[1])[::-1]\n",
        ")\n",
        "\n"
      ],
      "metadata": {
        "id": "hMlxLCyJ8tWf"
      },
      "execution_count": null,
      "outputs": []
    },
    {
      "cell_type": "code",
      "source": [
        "d1=df_desc_bigrams[0][0:20]\n",
        "d2=df_desc_bigrams[1][0:20]\n",
        "\n",
        "plt.figure(1,figsize=(10,30))\n",
        "plt.subplot(2,1,1)\n",
        "_=plt.barh(d1,d2)\n"
      ],
      "metadata": {
        "colab": {
          "base_uri": "https://localhost:8080/",
          "height": 789
        },
        "id": "Yl9yOJOG9w9b",
        "outputId": "6c4d64d3-88d1-439b-83e5-fd6a71435928"
      },
      "execution_count": null,
      "outputs": [
        {
          "output_type": "display_data",
          "data": {
            "text/plain": [
              "<Figure size 720x2160 with 1 Axes>"
            ],
            "image/png": "[encoded data removed]"
          },
          "metadata": {
            "needs_background": "light"
          }
        }
      ]
    },
    {
      "cell_type": "code",
      "source": [
        "from sklearn.feature_extraction.text import CountVectorizer\n",
        "\n",
        "def get_top_text_ngrams(corpus, ngrams=(1,1), nr=None):\n",
        "  vec = CountVectorizer(ngram_range=ngrams).fit(corpus)\n",
        "  bag_of_words=vec.transform(corpus)\n",
        "  sum_words= bag_of_words.sum(axis=0)\n",
        "  words_freq=[(word,sum_words[0,idx]) for word,idx in vec.vocabulary_.items()]\n",
        "  words_freq=sorted(words_freq, key= lambda x: x[1], reverse=True)\n",
        "  return words_freq[:nr]\n",
        "\n",
        "\n",
        "\n"
      ],
      "metadata": {
        "id": "LehUa20U_WbQ"
      },
      "execution_count": null,
      "outputs": []
    },
    {
      "cell_type": "code",
      "source": [
        "top_text_bigrams = get_top_text_ngrams(df.Desc09, ngrams=(2,2),nr=20)"
      ],
      "metadata": {
        "id": "cS4pEjURBa1H"
      },
      "execution_count": null,
      "outputs": []
    },
    {
      "cell_type": "code",
      "source": [
        "top_text_bigrams"
      ],
      "metadata": {
        "colab": {
          "base_uri": "https://localhost:8080/"
        },
        "id": "czmvu3-fBu38",
        "outputId": "ca04c3ee-bf77-479e-cd47-973f36b14e10"
      },
      "execution_count": null,
      "outputs": [
        {
          "output_type": "execute_result",
          "data": {
            "text/plain": [
              "[('victim was', 79),\n",
              " ('worker was', 73),\n",
              " ('the worker', 40),\n",
              " ('and was', 34),\n",
              " ('and fell', 33),\n",
              " ('on the', 33),\n",
              " ('to the', 32),\n",
              " ('he was', 27),\n",
              " ('was working', 25),\n",
              " ('of the', 23),\n",
              " ('in the', 22),\n",
              " ('was struck', 21),\n",
              " ('was electrocuted', 18),\n",
              " ('struck by', 17),\n",
              " ('the ground', 16),\n",
              " ('employee was', 16),\n",
              " ('and the', 15),\n",
              " ('from the', 14),\n",
              " ('feet to', 13),\n",
              " ('the victim', 13)]"
            ]
          },
          "metadata": {},
          "execution_count": 82
        }
      ]
    },
    {
      "cell_type": "code",
      "source": [
        "x,y =zip(*top_text_bigrams)\n",
        "plt.figure(1,figsize=(16, 8))\n",
        "plt.subplot(1,1,1)\n",
        "plt.bar(x,y)"
      ],
      "metadata": {
        "colab": {
          "base_uri": "https://localhost:8080/",
          "height": 466
        },
        "id": "X1KtnJHYB3xY",
        "outputId": "d6224d3f-4cc4-4399-bca9-67c9f76914e8"
      },
      "execution_count": null,
      "outputs": [
        {
          "output_type": "execute_result",
          "data": {
            "text/plain": [
              "<BarContainer object of 20 artists>"
            ]
          },
          "metadata": {},
          "execution_count": 83
        },
        {
          "output_type": "display_data",
          "data": {
            "text/plain": [
              "<Figure size 1152x576 with 1 Axes>"
            ],
            "image/png": "[encoded data removed]"
          },
          "metadata": {
            "needs_background": "light"
          }
        }
      ]
    }
  ]
}